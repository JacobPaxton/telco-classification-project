{
 "cells": [
  {
   "cell_type": "markdown",
   "id": "c119d746",
   "metadata": {},
   "source": [
    "# Telco Classification Project - Draft Workspace\n",
    "**Please see this repository for JupyterNB styling (for presentation):**\n",
    "* https://github.com/faithkane3/example_classification_project"
   ]
  },
  {
   "cell_type": "markdown",
   "id": "76b3b778",
   "metadata": {},
   "source": [
    "## Overview of work done so far...\n",
    "- Store contents of telco_churn database to local machine\n",
    "- acquire.py\n",
    "- prepare.py\n",
    "- Initial exploration\n",
    "- Feature selection"
   ]
  },
  {
   "cell_type": "markdown",
   "id": "c183f707",
   "metadata": {},
   "source": [
    "## To-Do\n",
    "- ~~Write acquire.py and prepare.py~~\n",
    "- ~~Explore data~~\n",
    "- Modeling/Evaluation\n",
    "- Create polished JupyterNB for presentation\n",
    "- Solidify all deliverables\n",
    "- Practice presentation to peer group\n",
    "- Deliver!"
   ]
  },
  {
   "cell_type": "code",
   "execution_count": 1,
   "id": "89ce6912",
   "metadata": {},
   "outputs": [],
   "source": [
    "### Imports ###\n",
    "import warnings\n",
    "warnings.filterwarnings(\"ignore\")\n",
    "\n",
    "import pandas as pd\n",
    "\n",
    "from acquire import gen_telco\n",
    "from prepare import gen_prep_telco\n",
    "from explore import train_validate_test_split\n",
    "from explore import explore_univariate, explore_bivariate, explore_multivariate\n",
    "\n",
    "from sklearn.ensemble import RandomForestClassifier\n",
    "from sklearn.neighbors import KNeighborsClassifier\n",
    "from sklearn.linear_model import LogisticRegression\n",
    "\n",
    "from sklearn.metrics import confusion_matrix\n",
    "from sklearn.metrics import classification_report"
   ]
  },
  {
   "cell_type": "code",
   "execution_count": 2,
   "id": "7c135e7c",
   "metadata": {},
   "outputs": [],
   "source": [
    "### Save local copies of the four telco_churn tables to current directory ###\n",
    "# gen_telco()"
   ]
  },
  {
   "cell_type": "code",
   "execution_count": 3,
   "id": "2111d01b",
   "metadata": {},
   "outputs": [
    {
     "data": {
      "text/html": [
       "<div>\n",
       "<style scoped>\n",
       "    .dataframe tbody tr th:only-of-type {\n",
       "        vertical-align: middle;\n",
       "    }\n",
       "\n",
       "    .dataframe tbody tr th {\n",
       "        vertical-align: top;\n",
       "    }\n",
       "\n",
       "    .dataframe thead th {\n",
       "        text-align: right;\n",
       "    }\n",
       "</style>\n",
       "<table border=\"1\" class=\"dataframe\">\n",
       "  <thead>\n",
       "    <tr style=\"text-align: right;\">\n",
       "      <th></th>\n",
       "      <th>partner</th>\n",
       "      <th>dependents</th>\n",
       "      <th>phone_service</th>\n",
       "      <th>multiple_lines</th>\n",
       "      <th>online_security</th>\n",
       "      <th>online_backup</th>\n",
       "      <th>device_protection</th>\n",
       "      <th>tech_support</th>\n",
       "      <th>streaming_tv</th>\n",
       "      <th>streaming_movies</th>\n",
       "      <th>paperless_billing</th>\n",
       "      <th>churn</th>\n",
       "      <th>gender</th>\n",
       "      <th>senior_citizen</th>\n",
       "      <th>internet_service_type_id</th>\n",
       "      <th>contract_type_id</th>\n",
       "      <th>payment_type_id</th>\n",
       "      <th>tenure</th>\n",
       "      <th>monthly_charges</th>\n",
       "      <th>total_charges</th>\n",
       "    </tr>\n",
       "  </thead>\n",
       "  <tbody>\n",
       "    <tr>\n",
       "      <th>0</th>\n",
       "      <td>1</td>\n",
       "      <td>1</td>\n",
       "      <td>1</td>\n",
       "      <td>0</td>\n",
       "      <td>0</td>\n",
       "      <td>1</td>\n",
       "      <td>0</td>\n",
       "      <td>1</td>\n",
       "      <td>1</td>\n",
       "      <td>0</td>\n",
       "      <td>1</td>\n",
       "      <td>0</td>\n",
       "      <td>1</td>\n",
       "      <td>0</td>\n",
       "      <td>1</td>\n",
       "      <td>2</td>\n",
       "      <td>2</td>\n",
       "      <td>9</td>\n",
       "      <td>65.6</td>\n",
       "      <td>593.3</td>\n",
       "    </tr>\n",
       "    <tr>\n",
       "      <th>1</th>\n",
       "      <td>0</td>\n",
       "      <td>0</td>\n",
       "      <td>1</td>\n",
       "      <td>1</td>\n",
       "      <td>0</td>\n",
       "      <td>0</td>\n",
       "      <td>0</td>\n",
       "      <td>0</td>\n",
       "      <td>0</td>\n",
       "      <td>1</td>\n",
       "      <td>0</td>\n",
       "      <td>0</td>\n",
       "      <td>0</td>\n",
       "      <td>0</td>\n",
       "      <td>1</td>\n",
       "      <td>1</td>\n",
       "      <td>2</td>\n",
       "      <td>9</td>\n",
       "      <td>59.9</td>\n",
       "      <td>542.4</td>\n",
       "    </tr>\n",
       "    <tr>\n",
       "      <th>2</th>\n",
       "      <td>0</td>\n",
       "      <td>0</td>\n",
       "      <td>1</td>\n",
       "      <td>0</td>\n",
       "      <td>0</td>\n",
       "      <td>0</td>\n",
       "      <td>1</td>\n",
       "      <td>0</td>\n",
       "      <td>0</td>\n",
       "      <td>0</td>\n",
       "      <td>1</td>\n",
       "      <td>1</td>\n",
       "      <td>0</td>\n",
       "      <td>0</td>\n",
       "      <td>2</td>\n",
       "      <td>1</td>\n",
       "      <td>1</td>\n",
       "      <td>4</td>\n",
       "      <td>73.9</td>\n",
       "      <td>280.85</td>\n",
       "    </tr>\n",
       "  </tbody>\n",
       "</table>\n",
       "</div>"
      ],
      "text/plain": [
       "   partner  dependents  phone_service  multiple_lines  online_security  \\\n",
       "0        1           1              1               0                0   \n",
       "1        0           0              1               1                0   \n",
       "2        0           0              1               0                0   \n",
       "\n",
       "   online_backup  device_protection  tech_support  streaming_tv  \\\n",
       "0              1                  0             1             1   \n",
       "1              0                  0             0             0   \n",
       "2              0                  1             0             0   \n",
       "\n",
       "   streaming_movies  paperless_billing  churn  gender  senior_citizen  \\\n",
       "0                 0                  1      0       1               0   \n",
       "1                 1                  0      0       0               0   \n",
       "2                 0                  1      1       0               0   \n",
       "\n",
       "   internet_service_type_id  contract_type_id  payment_type_id  tenure  \\\n",
       "0                         1                 2                2       9   \n",
       "1                         1                 1                2       9   \n",
       "2                         2                 1                1       4   \n",
       "\n",
       "   monthly_charges total_charges  \n",
       "0             65.6         593.3  \n",
       "1             59.9         542.4  \n",
       "2             73.9        280.85  "
      ]
     },
     "execution_count": 3,
     "metadata": {},
     "output_type": "execute_result"
    }
   ],
   "source": [
    "### Prepare telco_churn tables ###\n",
    "telco, contract_types, internet_service_types, payment_types = gen_prep_telco()\n",
    "telco.head(3)"
   ]
  },
  {
   "cell_type": "code",
   "execution_count": 4,
   "id": "05de9a0b",
   "metadata": {},
   "outputs": [
    {
     "data": {
      "text/plain": [
       "((3943, 20), (1691, 20), (1409, 20))"
      ]
     },
     "execution_count": 4,
     "metadata": {},
     "output_type": "execute_result"
    }
   ],
   "source": [
    "### Split customer data ###\n",
    "train, validate, test = train_validate_test_split(telco, 'churn', seed=123)\n",
    "train.shape, validate.shape, test.shape"
   ]
  },
  {
   "cell_type": "code",
   "execution_count": 5,
   "id": "2d90dc42",
   "metadata": {},
   "outputs": [],
   "source": [
    "### Identify categorical and quantified variables, identify target ###\n",
    "cat_vars = ['partner', 'dependents', 'phone_service', 'multiple_lines',\n",
    "            'online_security', 'online_backup', 'device_protection', \n",
    "            'tech_support', 'paperless_billing', 'streaming_tv', \n",
    "            'streaming_movies', 'gender', 'senior_citizen', \n",
    "            'internet_service_type_id', 'contract_type_id', 'payment_type_id']\n",
    "\n",
    "quant_vars = ['tenure', 'monthly_charges', 'total_charges']\n",
    "\n",
    "target = 'churn'"
   ]
  },
  {
   "cell_type": "code",
   "execution_count": 6,
   "id": "16d3d221",
   "metadata": {
    "scrolled": false
   },
   "outputs": [],
   "source": [
    "### Explore! ###\n",
    "# explore_univariate(train, cat_vars, quant_vars)\n",
    "# explore_bivariate(train, target, cat_vars, quant_vars)"
   ]
  },
  {
   "cell_type": "markdown",
   "id": "d5fe7e03",
   "metadata": {},
   "source": [
    "### Exploration Results:\n",
    "Note: percentages are estimated from visual checks of bar graphs\n",
    "- churn: 2897 not churned | 1046 churned\n",
    "- partner no/yes: 49/51, churn: 33% 19%\n",
    "- dependents no/yes: 70/30, churn: 31% 15%\n",
    "- phone_service no/yes: 9/91, churn: same\n",
    "- multiple_lines no/yes/nophone: 9/48/43, same\n",
    "- online_security no/yes/nointernet: 29/49/22, churn: 41% 16% 9%\n",
    "- online_backup no/yes/nointernet: 35/43/22, churn: 40% 21% 8%\n",
    "- device_protection no/yes/nointernet: 36/43/22, churn: 40% 22% 8%\n",
    "- tech_support no/yes/nointernet: 29/49/22, churn: 41% 16% 9%\n",
    "- paperless_billing no/yes: 41/59, churn: 17% 34%\n",
    "- streaming_tv no/yes/nointernet: 39/39/22, churn: 33% 29% 8%\n",
    "- streaming_movies no/yes/nointernet: 39/40/22, churn: 33% 30% 8%\n",
    "- gender no/yes: 49/51, churn: same\n",
    "- senior_citizen no/yes: 84/16, churn: 25% 40%\n",
    "- internet_service_type_id DSL/Fiber/None: 34/44/22, churn: 19% 40% 7%\n",
    "- contract_type_id M2M/1yr/2yr: 55/23/22, churn: 42% 11% 3%\n",
    "- payment_type_id eCheck/mailed/auto-bank/auto-credit: 34/22/22/22, churn: 46% 22% 18% 18%\n",
    "- tenure: highest at minimum, high at maximum (U-shaped curve)\n",
    "- monthly_charges: peak at lowest, normal distribution centered around 80\n",
    "- total_charges: nearly-uniform (slightly skews right)\n",
    "\n",
    "Features with a value having high churn rate (>40%):\n",
    "- online_security: no, 30% of all telco customers\n",
    "- online_backup: no, 35% of all telco\n",
    "- device_protection: no, 36% of population\n",
    "- tech_support: no, 29%pop\n",
    "- senior_citizen: yes, 16%pop\n",
    "- internet_service_type_id: Fiber optic, 44%pop\n",
    "- contract_type_id: Month-to-month, 55%pop\n",
    "- payment_type_id: electronic check, 34%pop\n",
    "\n",
    "Features with a value having moderately-high churn rate (>30%):\n",
    "- partner: no, 49%pop\n",
    "- dependents: no, 70%pop\n",
    "- paperless_billing: yes, 59%pop\n",
    "- streaming_tv: no, 39%\n",
    "- streaming_movies: no/yes, 39%/40%\n",
    "\n",
    "Numeric features:\n",
    "- tenure, monthly_charges, total_charges\n",
    "\n",
    "Features with similar churn rate between values (discard):\n",
    "- phone_service, multiple_lines, gender\n",
    "\n",
    "\n",
    "### Candidates (Requires further analysis):\n",
    "- Partner\n",
    "- Dependents\n",
    "- InternetService\n",
    "- OnlineBackup\n",
    "- DeviceProtection\n",
    "- TechSupport\n",
    "- Contract\n",
    "- PaperlessBilling\n",
    "- PaymentMethod\n",
    "\n",
    "Not Candidates (and why):\n",
    "- Gender: No significant difference in churn rate\n",
    "- PhoneService: No significant difference in churn rate\n",
    "- MultipleLines: Not a very significant difference in churn rate\n",
    "- Senior Citizen: Small population compared to total"
   ]
  },
  {
   "cell_type": "code",
   "execution_count": 7,
   "id": "4b4499df",
   "metadata": {
    "scrolled": true
   },
   "outputs": [
    {
     "name": "stdout",
     "output_type": "stream",
     "text": [
      "0.5117478510028654 0.5547277936962751 0.5461318051575931 0.6836676217765043 0.49604743083003955 0.5004940711462451 0.6902173913043478 0.6345475910693302 0.7391304347826086 0.6064516129032258\n"
     ]
    }
   ],
   "source": [
    "### In-Common Populations ###\n",
    "\n",
    "# Goal: For a few features whose high-churning value is \n",
    "#       between 30% and 60% of total population,\n",
    "#       determine if any two have too many values in common to be added to the model.\n",
    "\n",
    "# Features to investigate: partner(Single), internet_service_type_id(Fiber), online_backup(Nobackup), \n",
    "#                          device_protection(Unprotected), contract_type_id(Month-to-month)\n",
    "\n",
    "fs = (train[train.internet_service_type_id == 2].partner == 0).mean()\n",
    "fn = (train[train.internet_service_type_id == 2].online_backup == 0).mean()\n",
    "fu = (train[train.internet_service_type_id == 2].device_protection == 0).mean()\n",
    "fm = (train[train.internet_service_type_id == 2].contract_type_id == 1).mean()\n",
    "\n",
    "sn = (train[train.partner == 0].online_backup == 0).mean()\n",
    "su = (train[train.partner == 0].device_protection == 0).mean()\n",
    "sm = (train[train.partner == 0].contract_type_id == 1).mean()\n",
    "\n",
    "nu = (train[train.online_backup == 0].device_protection == 0).mean()\n",
    "nm = (train[train.online_backup == 0].contract_type_id == 1).mean()\n",
    "\n",
    "mu = (train[train.contract_type_id == 1].device_protection == 0).mean()\n",
    "\n",
    "# Print percent-in-common for each two-feature combination\n",
    "print(fs, fn, fu, fm, sn, su, sm, nu, nm, mu)"
   ]
  },
  {
   "cell_type": "markdown",
   "id": "95f0adc1",
   "metadata": {},
   "source": [
    "Commonality:\n",
    "- 40s% Share: Single-Nobackup (49.6%)\n",
    "- 50s% Share: Single-Unprotected (50.1%), Fiber-Single (51.2%), Fiber-Unprotected (54.6%), Fiber-Nobackup (55.5%)\n",
    "- 60s% Share: Monthly-Unprotected (60.6%), Nobackup-Unprotected (63.45%), Fiber-Monthly (68.4%), Single_Monthly (69.0%)\n",
    "- 70s% Share: Nobackup-Monthly (73.9%)"
   ]
  },
  {
   "cell_type": "markdown",
   "id": "4f3d61af",
   "metadata": {},
   "source": [
    "### Takeaways: \n",
    "- **Although Month-to-month contracts are 55% of all contracts with a significantly-higher churn rate than other contracts, the population comparison above shows that month-to-month adds population redundancy. Therefore, I will create a model including month-to-month and a model not including month-to-month to see which model performs better.**\n",
    "- **The only other population check with >60% share between variables is device_protection and online_backup. I will therefore drop one for a model, and drop the other for another model.**"
   ]
  },
  {
   "cell_type": "markdown",
   "id": "a0abed0a",
   "metadata": {},
   "source": [
    "### Model Design\n",
    "Model Combination #1 Target and Features:\n",
    "- Target: churn\n",
    "- Features: partner, internet_service_type_id, online_backup\n",
    "\n",
    "Model Combination #2 Target and Features:\n",
    "- Target: churn\n",
    "- Features: partner, internet_service_type_id, online_backup, contract_type_id\n",
    "\n",
    "Model Combination #3 Target and Features:\n",
    "- Target: churn\n",
    "- Features: partner, internet_service_type_id, device_protection"
   ]
  },
  {
   "cell_type": "code",
   "execution_count": 8,
   "id": "cd20016c",
   "metadata": {
    "scrolled": true
   },
   "outputs": [
    {
     "data": {
      "text/html": [
       "<div>\n",
       "<style scoped>\n",
       "    .dataframe tbody tr th:only-of-type {\n",
       "        vertical-align: middle;\n",
       "    }\n",
       "\n",
       "    .dataframe tbody tr th {\n",
       "        vertical-align: top;\n",
       "    }\n",
       "\n",
       "    .dataframe thead th {\n",
       "        text-align: right;\n",
       "    }\n",
       "</style>\n",
       "<table border=\"1\" class=\"dataframe\">\n",
       "  <thead>\n",
       "    <tr style=\"text-align: right;\">\n",
       "      <th></th>\n",
       "      <th>partner</th>\n",
       "      <th>internet_service_type_id</th>\n",
       "      <th>online_backup</th>\n",
       "      <th>contract_type_id</th>\n",
       "    </tr>\n",
       "  </thead>\n",
       "  <tbody>\n",
       "    <tr>\n",
       "      <th>5310</th>\n",
       "      <td>1</td>\n",
       "      <td>1</td>\n",
       "      <td>1</td>\n",
       "      <td>3</td>\n",
       "    </tr>\n",
       "    <tr>\n",
       "      <th>3790</th>\n",
       "      <td>1</td>\n",
       "      <td>1</td>\n",
       "      <td>1</td>\n",
       "      <td>3</td>\n",
       "    </tr>\n",
       "    <tr>\n",
       "      <th>4398</th>\n",
       "      <td>1</td>\n",
       "      <td>2</td>\n",
       "      <td>0</td>\n",
       "      <td>2</td>\n",
       "    </tr>\n",
       "  </tbody>\n",
       "</table>\n",
       "</div>"
      ],
      "text/plain": [
       "      partner  internet_service_type_id  online_backup  contract_type_id\n",
       "5310        1                         1              1                 3\n",
       "3790        1                         1              1                 3\n",
       "4398        1                         2              0                 2"
      ]
     },
     "execution_count": 8,
     "metadata": {},
     "output_type": "execute_result"
    }
   ],
   "source": [
    "target = 'churn'\n",
    "combo1 = ['partner', 'internet_service_type_id', 'online_backup']\n",
    "combo2 = ['partner', 'internet_service_type_id', 'online_backup', 'contract_type_id']\n",
    "combo3 = ['partner', 'internet_service_type_id', 'device_protection']\n",
    "\n",
    "y_train = train[target]\n",
    "X_train1 = train[combo1]\n",
    "X_train2 = train[combo2]\n",
    "X_train3 = train[combo3]\n",
    "\n",
    "y_validate = validate[target]\n",
    "X_validate1 = validate[combo1]\n",
    "X_validate2 = validate[combo2]\n",
    "X_validate3 = validate[combo3]\n",
    "\n",
    "X_train2.head(3)"
   ]
  },
  {
   "cell_type": "markdown",
   "id": "3903a48e",
   "metadata": {},
   "source": [
    "### Models\n",
    "I will use Random Forest, K-Nearest Neighbors, and Logistic Regression for each model combination listed above."
   ]
  },
  {
   "cell_type": "code",
   "execution_count": 9,
   "id": "534a0175",
   "metadata": {},
   "outputs": [],
   "source": [
    "rf1 = RandomForestClassifier(min_samples_leaf=1, max_depth=10, random_state=123)\n",
    "rf2 = RandomForestClassifier(min_samples_leaf=1, max_depth=10, random_state=123)\n",
    "rf3 = RandomForestClassifier(min_samples_leaf=1, max_depth=10, random_state=123)\n",
    "\n",
    "knn1 = KNeighborsClassifier(n_neighbors=10)\n",
    "knn2 = KNeighborsClassifier(n_neighbors=10)\n",
    "knn3 = KNeighborsClassifier(n_neighbors=10)\n",
    "\n",
    "logit1 = LogisticRegression(random_state=123)\n",
    "logit2 = LogisticRegression(random_state=123)\n",
    "logit3 = LogisticRegression(random_state=123)"
   ]
  },
  {
   "cell_type": "code",
   "execution_count": 10,
   "id": "50d51168",
   "metadata": {},
   "outputs": [],
   "source": [
    "rf1 = rf1.fit(X_train1, y_train)\n",
    "rf2 = rf2.fit(X_train2, y_train)\n",
    "rf3 = rf3.fit(X_train3, y_train)\n",
    "\n",
    "knn1 = knn1.fit(X_train1, y_train)\n",
    "knn2 = knn2.fit(X_train2, y_train)\n",
    "knn3 = knn3.fit(X_train3, y_train)\n",
    "\n",
    "logit1 = logit1.fit(X_train1, y_train)\n",
    "logit2 = logit2.fit(X_train2, y_train)\n",
    "logit3 = logit3.fit(X_train3, y_train)"
   ]
  },
  {
   "cell_type": "markdown",
   "id": "fa2fb4aa",
   "metadata": {},
   "source": [
    "### Evaluation\n",
    "Checking baseline."
   ]
  },
  {
   "cell_type": "code",
   "execution_count": 11,
   "id": "e2d43474",
   "metadata": {},
   "outputs": [
    {
     "data": {
      "text/plain": [
       "0.7347197565305605"
      ]
     },
     "execution_count": 11,
     "metadata": {},
     "output_type": "execute_result"
    }
   ],
   "source": [
    "# train.groupby('churn').churn.count()\n",
    "(train.churn == 0).mean()"
   ]
  },
  {
   "cell_type": "markdown",
   "id": "2e71adb6",
   "metadata": {},
   "source": [
    "Checking scores of each model against train."
   ]
  },
  {
   "cell_type": "code",
   "execution_count": 12,
   "id": "d8410040",
   "metadata": {},
   "outputs": [
    {
     "name": "stdout",
     "output_type": "stream",
     "text": [
      "0.7550088764899823\n",
      "0.7702257164595485\n",
      "0.7514582804970834\n",
      "0.7347197565305605\n",
      "0.7159523205680953\n",
      "0.7347197565305605\n",
      "0.7550088764899823\n",
      "0.7702257164595485\n",
      "0.7514582804970834\n"
     ]
    }
   ],
   "source": [
    "print(rf1.score(X_train1, y_train))\n",
    "print(rf2.score(X_train2, y_train))\n",
    "print(rf3.score(X_train3, y_train))\n",
    "\n",
    "print(knn1.score(X_train1, y_train))\n",
    "print(knn2.score(X_train2, y_train))\n",
    "print(knn3.score(X_train3, y_train))\n",
    "\n",
    "print(logit1.score(X_train1, y_train))\n",
    "print(logit2.score(X_train2, y_train))\n",
    "print(logit3.score(X_train3, y_train))"
   ]
  },
  {
   "cell_type": "markdown",
   "id": "68fc9d09",
   "metadata": {},
   "source": [
    "Checking model scores against validate."
   ]
  },
  {
   "cell_type": "code",
   "execution_count": 13,
   "id": "82cf4777",
   "metadata": {},
   "outputs": [
    {
     "name": "stdout",
     "output_type": "stream",
     "text": [
      "0.7480780603193377\n",
      "0.7640449438202247\n",
      "0.7474866942637493\n",
      "0.7344766410408042\n",
      "0.7261975162625666\n",
      "0.7344766410408042\n",
      "0.7480780603193377\n",
      "0.7640449438202247\n",
      "0.7474866942637493\n"
     ]
    }
   ],
   "source": [
    "print(rf1.score(X_validate1, y_validate))\n",
    "print(rf2.score(X_validate2, y_validate))\n",
    "print(rf3.score(X_validate3, y_validate))\n",
    "\n",
    "print(knn1.score(X_validate1, y_validate))\n",
    "print(knn2.score(X_validate2, y_validate))\n",
    "print(knn3.score(X_validate3, y_validate))\n",
    "\n",
    "print(logit1.score(X_validate1, y_validate))\n",
    "print(logit2.score(X_validate2, y_validate))\n",
    "print(logit3.score(X_validate3, y_validate))"
   ]
  },
  {
   "cell_type": "markdown",
   "id": "038f7575",
   "metadata": {},
   "source": [
    "#### Baseline\n",
    "- Not-churned customers make up 73.5% of all telco customers.\n",
    "\n",
    "#### Train results\n",
    "- rf2 and logit2 have same score, 77.0%\n",
    "- rf1 and logit1 have same score, 75.5%\n",
    "- rf3 and logit3 have same score, 75.1%\n",
    "- knn1 and knn3 have same score, 73.5%\n",
    "- knn2 scored lowest with 71.6%\n",
    "\n",
    "#### Validate results\n",
    "- rf2 and logit2 have same score, 76.4%\n",
    "- rf1 and logit1 have same score, 74.8%\n",
    "- rf3 and logit3 have same score, 74.7%\n",
    "- knn1 and knn3 have same score, 73.4%\n",
    "- knn2 scored lowest with 72.6%"
   ]
  },
  {
   "cell_type": "markdown",
   "id": "c416d566",
   "metadata": {},
   "source": [
    "### Evaluation Takeaways\n",
    "- Random Forest (RF) and Logistic Regression (LOGIT) score higher than baseline, K-Nearest Neighbors scores lower\n",
    "- Including the contract_type_id feature improved RF and LOGIT performance for this evaluation"
   ]
  },
  {
   "cell_type": "code",
   "execution_count": null,
   "id": "7e6513e4",
   "metadata": {},
   "outputs": [],
   "source": []
  }
 ],
 "metadata": {
  "kernelspec": {
   "display_name": "Python 3",
   "language": "python",
   "name": "python3"
  },
  "language_info": {
   "codemirror_mode": {
    "name": "ipython",
    "version": 3
   },
   "file_extension": ".py",
   "mimetype": "text/x-python",
   "name": "python",
   "nbconvert_exporter": "python",
   "pygments_lexer": "ipython3",
   "version": "3.8.8"
  }
 },
 "nbformat": 4,
 "nbformat_minor": 5
}
