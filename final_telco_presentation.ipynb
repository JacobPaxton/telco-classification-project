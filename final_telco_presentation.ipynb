{
 "cells": [
  {
   "cell_type": "markdown",
   "id": "b3ccfaa5",
   "metadata": {},
   "source": [
    "# <center>Churn at Telco</center>"
   ]
  },
  {
   "cell_type": "markdown",
   "id": "78e056ee",
   "metadata": {},
   "source": [
    "# Goal 1: Identify Potential Drivers of Churn"
   ]
  },
  {
   "cell_type": "markdown",
   "id": "e8528ecd",
   "metadata": {},
   "source": [
    "## Initial Hypotheses\n",
    "1. Customers without Online Security option churn more than those having it\n",
    "2. Customers without Online Backup option churn more than those having it\n",
    "3. Customers without Device Protection option churn more than those having it\n",
    "4. Customers without Tech Support option churn more than those having it"
   ]
  },
  {
   "cell_type": "markdown",
   "id": "a695f30f",
   "metadata": {},
   "source": [
    "## Statistics, Visualizations, Takeaways\n",
    "### Imports"
   ]
  },
  {
   "cell_type": "code",
   "execution_count": 1,
   "id": "0785c8c4",
   "metadata": {},
   "outputs": [],
   "source": [
    "### Imports ###\n",
    "import warnings\n",
    "warnings.filterwarnings(\"ignore\")\n",
    "\n",
    "from explore import explore_bivariate_categorical\n",
    "from prepare import telco_support"
   ]
  },
  {
   "cell_type": "code",
   "execution_count": 2,
   "id": "c800ebe7",
   "metadata": {
    "scrolled": true
   },
   "outputs": [
    {
     "data": {
      "text/html": [
       "<div>\n",
       "<style scoped>\n",
       "    .dataframe tbody tr th:only-of-type {\n",
       "        vertical-align: middle;\n",
       "    }\n",
       "\n",
       "    .dataframe tbody tr th {\n",
       "        vertical-align: top;\n",
       "    }\n",
       "\n",
       "    .dataframe thead th {\n",
       "        text-align: right;\n",
       "    }\n",
       "</style>\n",
       "<table border=\"1\" class=\"dataframe\">\n",
       "  <thead>\n",
       "    <tr style=\"text-align: right;\">\n",
       "      <th></th>\n",
       "      <th>churn</th>\n",
       "      <th>online_security</th>\n",
       "      <th>online_backup</th>\n",
       "      <th>device_protection</th>\n",
       "      <th>tech_support</th>\n",
       "    </tr>\n",
       "  </thead>\n",
       "  <tbody>\n",
       "    <tr>\n",
       "      <th>0</th>\n",
       "      <td>0</td>\n",
       "      <td>0</td>\n",
       "      <td>1</td>\n",
       "      <td>0</td>\n",
       "      <td>1</td>\n",
       "    </tr>\n",
       "    <tr>\n",
       "      <th>1</th>\n",
       "      <td>0</td>\n",
       "      <td>0</td>\n",
       "      <td>0</td>\n",
       "      <td>0</td>\n",
       "      <td>0</td>\n",
       "    </tr>\n",
       "    <tr>\n",
       "      <th>2</th>\n",
       "      <td>1</td>\n",
       "      <td>0</td>\n",
       "      <td>0</td>\n",
       "      <td>1</td>\n",
       "      <td>0</td>\n",
       "    </tr>\n",
       "  </tbody>\n",
       "</table>\n",
       "</div>"
      ],
      "text/plain": [
       "   churn  online_security  online_backup  device_protection  tech_support\n",
       "0      0                0              1                  0             1\n",
       "1      0                0              0                  0             0\n",
       "2      1                0              0                  1             0"
      ]
     },
     "execution_count": 2,
     "metadata": {},
     "output_type": "execute_result"
    }
   ],
   "source": [
    "### Pull encoded dataframe with support columns ###\n",
    "df = telco_support()\n",
    "df.head(3)"
   ]
  },
  {
   "cell_type": "markdown",
   "id": "47166ca7",
   "metadata": {},
   "source": [
    "### Run statistical tests, build visualizations ###\n",
    "For each feature, \n",
    "- customers without the support option are encoded to 0\n",
    "- other customers are encoded to 1"
   ]
  },
  {
   "cell_type": "markdown",
   "id": "f1793c2b",
   "metadata": {},
   "source": [
    "#### online_security\n",
    "alpha = .05\n",
    "\n",
    "$H_0$ Customers without Online Security option do not churn more than those having it\n",
    "\n",
    "$H_a$ Customers without Online Security option churn more than those having it"
   ]
  },
  {
   "cell_type": "code",
   "execution_count": 3,
   "id": "23d1011f",
   "metadata": {
    "scrolled": false
   },
   "outputs": [
    {
     "name": "stdout",
     "output_type": "stream",
     "text": [
      "online_security \n",
      "_____________________\n",
      "\n",
      "         chi2        p-value  degrees of freedom\n",
      "0  825.296686  1.706916e-181                   1\n",
      "\n",
      "observed:\n",
      " churn               0     1   All\n",
      "online_security                  \n",
      "0                2037  1461  3498\n",
      "1                3137   408  3545\n",
      "All              5174  1869  7043\n",
      "\n",
      "expected:\n",
      "              0           1\n",
      "0  2569.736192  928.263808\n",
      "1  2604.263808  940.736192\n"
     ]
    },
    {
     "data": {
      "image/png": "[encoded data removed]",
      "text/plain": [
       "<Figure size 144x144 with 1 Axes>"
      ]
     },
     "metadata": {
      "needs_background": "light"
     },
     "output_type": "display_data"
    },
    {
     "name": "stdout",
     "output_type": "stream",
     "text": [
      "\n",
      "_____________________\n",
      "\n"
     ]
    }
   ],
   "source": [
    "explore_bivariate_categorical(df, 'churn', 'online_security')"
   ]
  },
  {
   "cell_type": "markdown",
   "id": "f417052f",
   "metadata": {},
   "source": [
    "**We reject the null hypothesis. Customers without Online Security option churn more than those having it.**"
   ]
  },
  {
   "cell_type": "markdown",
   "id": "f515e919",
   "metadata": {},
   "source": [
    "#### Online Backup\n",
    "alpha = .05\n",
    "\n",
    "$H_0$ Customers without Online Backup option do not churn more than those having it\n",
    "\n",
    "$H_a$ Customers without Online Backup option churn more than those having it"
   ]
  },
  {
   "cell_type": "code",
   "execution_count": 4,
   "id": "2b8f94df",
   "metadata": {
    "scrolled": false
   },
   "outputs": [
    {
     "name": "stdout",
     "output_type": "stream",
     "text": [
      "online_backup \n",
      "_____________________\n",
      "\n",
      "         chi2        p-value  degrees of freedom\n",
      "0  504.653442  9.236013e-112                   1\n",
      "\n",
      "observed:\n",
      " churn             0     1   All\n",
      "online_backup                  \n",
      "0              1855  1233  3088\n",
      "1              3319   636  3955\n",
      "All            5174  1869  7043\n",
      "\n",
      "expected:\n",
      "              0            1\n",
      "0  2268.537839   819.462161\n",
      "1  2905.462161  1049.537839\n"
     ]
    },
    {
     "data": {
      "image/png": "[encoded data removed]",
      "text/plain": [
       "<Figure size 144x144 with 1 Axes>"
      ]
     },
     "metadata": {
      "needs_background": "light"
     },
     "output_type": "display_data"
    },
    {
     "name": "stdout",
     "output_type": "stream",
     "text": [
      "\n",
      "_____________________\n",
      "\n"
     ]
    }
   ],
   "source": [
    "explore_bivariate_categorical(df, 'churn', 'online_backup')"
   ]
  },
  {
   "cell_type": "markdown",
   "id": "5f0a056d",
   "metadata": {},
   "source": [
    "**We reject the null hypothesis. Customers without Online Backup option churn more than those having it.**"
   ]
  },
  {
   "cell_type": "markdown",
   "id": "70bd5856",
   "metadata": {},
   "source": [
    "#### Device Protection\n",
    "alpha = .05\n",
    "\n",
    "$H_0$ Customers without Device Protection option do not churn more than those having it\n",
    "\n",
    "$H_a$ Customers without Device Protection option churn more than those having it"
   ]
  },
  {
   "cell_type": "code",
   "execution_count": 5,
   "id": "39d67d19",
   "metadata": {},
   "outputs": [
    {
     "name": "stdout",
     "output_type": "stream",
     "text": [
      "device_protection \n",
      "_____________________\n",
      "\n",
      "         chi2       p-value  degrees of freedom\n",
      "0  447.817568  2.153157e-99                   1\n",
      "\n",
      "observed:\n",
      " churn                 0     1   All\n",
      "device_protection                  \n",
      "0                  1884  1211  3095\n",
      "1                  3290   658  3948\n",
      "All                5174  1869  7043\n",
      "\n",
      "expected:\n",
      "             0           1\n",
      "0  2273.68025   821.31975\n",
      "1  2900.31975  1047.68025\n"
     ]
    },
    {
     "data": {
      "image/png": "[encoded data removed]",
      "text/plain": [
       "<Figure size 144x144 with 1 Axes>"
      ]
     },
     "metadata": {
      "needs_background": "light"
     },
     "output_type": "display_data"
    },
    {
     "name": "stdout",
     "output_type": "stream",
     "text": [
      "\n",
      "_____________________\n",
      "\n"
     ]
    }
   ],
   "source": [
    "explore_bivariate_categorical(df, 'churn', 'device_protection')"
   ]
  },
  {
   "cell_type": "markdown",
   "id": "5c0d4a58",
   "metadata": {},
   "source": [
    "**We reject the null hypothesis. Customers without Device Protection option churn more than those having it.**"
   ]
  },
  {
   "cell_type": "markdown",
   "id": "60bda029",
   "metadata": {},
   "source": [
    "#### Tech Support\n",
    "alpha = .05\n",
    "\n",
    "$H_0$ Customers without Tech Support option do not churn more than those having it\n",
    "\n",
    "$H_a$ Customers without Tech Support option churn more than those having it"
   ]
  },
  {
   "cell_type": "code",
   "execution_count": 6,
   "id": "2389db57",
   "metadata": {},
   "outputs": [
    {
     "name": "stdout",
     "output_type": "stream",
     "text": [
      "tech_support \n",
      "_____________________\n",
      "\n",
      "         chi2        p-value  degrees of freedom\n",
      "0  799.672433  6.357408e-176                   1\n",
      "\n",
      "observed:\n",
      " churn            0     1   All\n",
      "tech_support                  \n",
      "0             2027  1446  3473\n",
      "1             3147   423  3570\n",
      "All           5174  1869  7043\n",
      "\n",
      "expected:\n",
      "              0           1\n",
      "0  2551.370439  921.629561\n",
      "1  2622.629561  947.370439\n"
     ]
    },
    {
     "data": {
      "image/png": "[encoded data removed]",
      "text/plain": [
       "<Figure size 144x144 with 1 Axes>"
      ]
     },
     "metadata": {
      "needs_background": "light"
     },
     "output_type": "display_data"
    },
    {
     "name": "stdout",
     "output_type": "stream",
     "text": [
      "\n",
      "_____________________\n",
      "\n"
     ]
    }
   ],
   "source": [
    "explore_bivariate_categorical(df, 'churn', 'tech_support')"
   ]
  },
  {
   "cell_type": "markdown",
   "id": "c2e88596",
   "metadata": {},
   "source": [
    "**We reject the null hypothesis. Customers without Tech Support option churn more than those having it.**"
   ]
  },
  {
   "cell_type": "markdown",
   "id": "847c56cf",
   "metadata": {},
   "source": [
    "# Goal 2: Construct a Model to Predict Churn"
   ]
  },
  {
   "cell_type": "markdown",
   "id": "32c4e7ae",
   "metadata": {},
   "source": [
    "### Imports"
   ]
  },
  {
   "cell_type": "code",
   "execution_count": 7,
   "id": "d1172f6e",
   "metadata": {},
   "outputs": [],
   "source": [
    "### Imports ###\n",
    "import warnings\n",
    "warnings.filterwarnings(\"ignore\")\n",
    "\n",
    "import pandas as pd\n",
    "\n",
    "from acquire import gen_telco\n",
    "from prepare import gen_prep_telco\n",
    "from explore import train_validate_test_split\n",
    "from explore import explore_univariate, explore_bivariate, explore_multivariate\n",
    "\n",
    "from sklearn.ensemble import RandomForestClassifier\n",
    "from sklearn.neighbors import KNeighborsClassifier\n",
    "from sklearn.linear_model import LogisticRegression\n",
    "\n",
    "from sklearn.metrics import confusion_matrix\n",
    "from sklearn.metrics import classification_report"
   ]
  },
  {
   "cell_type": "code",
   "execution_count": 8,
   "id": "e246d0b4",
   "metadata": {},
   "outputs": [],
   "source": [
    "### Save local copies of the four telco_churn tables to current directory ###\n",
    "raw_telco, t1, t2, t3 = gen_telco()\n",
    "raw_telco.drop(columns='Unnamed: 0', inplace=True)"
   ]
  },
  {
   "cell_type": "markdown",
   "id": "eb11fc04",
   "metadata": {},
   "source": [
    "### Prepare, Split"
   ]
  },
  {
   "cell_type": "code",
   "execution_count": 9,
   "id": "5a4cf065",
   "metadata": {},
   "outputs": [
    {
     "data": {
      "text/html": [
       "<div>\n",
       "<style scoped>\n",
       "    .dataframe tbody tr th:only-of-type {\n",
       "        vertical-align: middle;\n",
       "    }\n",
       "\n",
       "    .dataframe tbody tr th {\n",
       "        vertical-align: top;\n",
       "    }\n",
       "\n",
       "    .dataframe thead th {\n",
       "        text-align: right;\n",
       "    }\n",
       "</style>\n",
       "<table border=\"1\" class=\"dataframe\">\n",
       "  <thead>\n",
       "    <tr style=\"text-align: right;\">\n",
       "      <th></th>\n",
       "      <th>customer_id</th>\n",
       "      <th>partner</th>\n",
       "      <th>dependents</th>\n",
       "      <th>phone_service</th>\n",
       "      <th>multiple_lines</th>\n",
       "      <th>online_backup</th>\n",
       "      <th>device_protection</th>\n",
       "      <th>tech_support</th>\n",
       "      <th>streaming_tv</th>\n",
       "      <th>streaming_movies</th>\n",
       "      <th>...</th>\n",
       "      <th>churn</th>\n",
       "      <th>online_security</th>\n",
       "      <th>gender</th>\n",
       "      <th>senior_citizen</th>\n",
       "      <th>internet_service_type_id</th>\n",
       "      <th>contract_type_id</th>\n",
       "      <th>payment_type_id</th>\n",
       "      <th>tenure</th>\n",
       "      <th>monthly_charges</th>\n",
       "      <th>total_charges</th>\n",
       "    </tr>\n",
       "  </thead>\n",
       "  <tbody>\n",
       "    <tr>\n",
       "      <th>0</th>\n",
       "      <td>0002-ORFBO</td>\n",
       "      <td>1</td>\n",
       "      <td>1</td>\n",
       "      <td>1</td>\n",
       "      <td>0</td>\n",
       "      <td>1</td>\n",
       "      <td>0</td>\n",
       "      <td>1</td>\n",
       "      <td>1</td>\n",
       "      <td>0</td>\n",
       "      <td>...</td>\n",
       "      <td>0</td>\n",
       "      <td>0</td>\n",
       "      <td>1</td>\n",
       "      <td>0</td>\n",
       "      <td>1</td>\n",
       "      <td>2</td>\n",
       "      <td>2</td>\n",
       "      <td>9</td>\n",
       "      <td>65.6</td>\n",
       "      <td>593.3</td>\n",
       "    </tr>\n",
       "    <tr>\n",
       "      <th>1</th>\n",
       "      <td>0003-MKNFE</td>\n",
       "      <td>0</td>\n",
       "      <td>0</td>\n",
       "      <td>1</td>\n",
       "      <td>1</td>\n",
       "      <td>0</td>\n",
       "      <td>0</td>\n",
       "      <td>0</td>\n",
       "      <td>0</td>\n",
       "      <td>1</td>\n",
       "      <td>...</td>\n",
       "      <td>0</td>\n",
       "      <td>0</td>\n",
       "      <td>0</td>\n",
       "      <td>0</td>\n",
       "      <td>1</td>\n",
       "      <td>1</td>\n",
       "      <td>2</td>\n",
       "      <td>9</td>\n",
       "      <td>59.9</td>\n",
       "      <td>542.4</td>\n",
       "    </tr>\n",
       "    <tr>\n",
       "      <th>2</th>\n",
       "      <td>0004-TLHLJ</td>\n",
       "      <td>0</td>\n",
       "      <td>0</td>\n",
       "      <td>1</td>\n",
       "      <td>0</td>\n",
       "      <td>0</td>\n",
       "      <td>1</td>\n",
       "      <td>0</td>\n",
       "      <td>0</td>\n",
       "      <td>0</td>\n",
       "      <td>...</td>\n",
       "      <td>1</td>\n",
       "      <td>0</td>\n",
       "      <td>0</td>\n",
       "      <td>0</td>\n",
       "      <td>2</td>\n",
       "      <td>1</td>\n",
       "      <td>1</td>\n",
       "      <td>4</td>\n",
       "      <td>73.9</td>\n",
       "      <td>280.85</td>\n",
       "    </tr>\n",
       "  </tbody>\n",
       "</table>\n",
       "<p>3 rows × 21 columns</p>\n",
       "</div>"
      ],
      "text/plain": [
       "  customer_id  partner  dependents  phone_service  multiple_lines  \\\n",
       "0  0002-ORFBO        1           1              1               0   \n",
       "1  0003-MKNFE        0           0              1               1   \n",
       "2  0004-TLHLJ        0           0              1               0   \n",
       "\n",
       "   online_backup  device_protection  tech_support  streaming_tv  \\\n",
       "0              1                  0             1             1   \n",
       "1              0                  0             0             0   \n",
       "2              0                  1             0             0   \n",
       "\n",
       "   streaming_movies  ...  churn  online_security  gender  senior_citizen  \\\n",
       "0                 0  ...      0                0       1               0   \n",
       "1                 1  ...      0                0       0               0   \n",
       "2                 0  ...      1                0       0               0   \n",
       "\n",
       "   internet_service_type_id  contract_type_id  payment_type_id  tenure  \\\n",
       "0                         1                 2                2       9   \n",
       "1                         1                 1                2       9   \n",
       "2                         2                 1                1       4   \n",
       "\n",
       "   monthly_charges  total_charges  \n",
       "0             65.6          593.3  \n",
       "1             59.9          542.4  \n",
       "2             73.9         280.85  \n",
       "\n",
       "[3 rows x 21 columns]"
      ]
     },
     "execution_count": 9,
     "metadata": {},
     "output_type": "execute_result"
    }
   ],
   "source": [
    "### Prepare telco_churn tables ###\n",
    "telco, contract_types, internet_service_types, payment_types = gen_prep_telco()\n",
    "telco.head(3)"
   ]
  },
  {
   "cell_type": "code",
   "execution_count": 10,
   "id": "a109c79e",
   "metadata": {},
   "outputs": [
    {
     "data": {
      "text/plain": [
       "((3943, 21), (1691, 21), (1409, 21))"
      ]
     },
     "execution_count": 10,
     "metadata": {},
     "output_type": "execute_result"
    }
   ],
   "source": [
    "### Split customer data ###\n",
    "train, validate, test = train_validate_test_split(telco, 'churn', seed=123)\n",
    "train.shape, validate.shape, test.shape"
   ]
  },
  {
   "cell_type": "markdown",
   "id": "3aec1e87",
   "metadata": {},
   "source": [
    "### Explore"
   ]
  },
  {
   "cell_type": "code",
   "execution_count": 11,
   "id": "5ec2ea62",
   "metadata": {},
   "outputs": [],
   "source": [
    "### Identify categorical and quantified variables, identify target ###\n",
    "cat_vars = ['partner', 'dependents', 'phone_service', 'multiple_lines',\n",
    "            'online_security', 'online_backup', 'device_protection', \n",
    "            'tech_support', 'paperless_billing', 'streaming_tv', \n",
    "            'streaming_movies', 'gender', 'senior_citizen', \n",
    "            'internet_service_type_id', 'contract_type_id', 'payment_type_id']\n",
    "\n",
    "quant_vars = ['tenure', 'monthly_charges', 'total_charges']\n",
    "\n",
    "target = 'churn'"
   ]
  },
  {
   "cell_type": "code",
   "execution_count": 12,
   "id": "818ea0ae",
   "metadata": {},
   "outputs": [],
   "source": [
    "### Explore! ###\n",
    "# explore_univariate(train, cat_vars, quant_vars)\n",
    "# explore_bivariate(train, target, cat_vars, quant_vars)"
   ]
  },
  {
   "cell_type": "markdown",
   "id": "d6cbf89b",
   "metadata": {},
   "source": [
    "From above exploration functions, I nominated the following features for further exploration:\n",
    "- **partner**:\n",
    "    * no/yes \n",
    "    * pop: 49/51, \n",
    "    * churn: 33% 19%\n",
    "- **online_backup**: \n",
    "    * no/yes/nointernet \n",
    "    * pop: 35/43/22, \n",
    "    * churn: 40% 21% 8%\n",
    "- **device_protection**: \n",
    "    * no/yes/nointernet \n",
    "    * pop: 36/43/22\n",
    "    * churn: 40% 22% 8%\n",
    "- **internet_service_type_id**: \n",
    "    * DSL/Fiber/None: \n",
    "    * pop: 34/44/22\n",
    "    * churn: 19% 40% 7%\n",
    "- **contract_type_id**: \n",
    "    * M2M/1yr/2yr \n",
    "    * pop: 55/23/22\n",
    "    * churn: 42% 11% 3%"
   ]
  },
  {
   "cell_type": "markdown",
   "id": "7f8c9949",
   "metadata": {},
   "source": [
    "### Population Commonality"
   ]
  },
  {
   "cell_type": "code",
   "execution_count": 13,
   "id": "019c75d9",
   "metadata": {},
   "outputs": [
    {
     "name": "stdout",
     "output_type": "stream",
     "text": [
      "0.5117478510028654 0.5547277936962751 0.5461318051575931 0.6836676217765043 0.49604743083003955 0.5004940711462451 0.6902173913043478 0.6345475910693302 0.7391304347826086 0.6064516129032258\n"
     ]
    }
   ],
   "source": [
    "### In-Common Populations ###\n",
    "\n",
    "# Goal: For a few features whose high-churning value is \n",
    "#       between 30% and 60% of total population,\n",
    "#       determine if any two have too many values in common to be added to the model.\n",
    "\n",
    "# Features to investigate: partner(Single), internet_service_type_id(Fiber), online_backup(Nobackup), \n",
    "#                          device_protection(Unprotected), contract_type_id(Month-to-month)\n",
    "\n",
    "fs = (train[train.internet_service_type_id == 2].partner == 0).mean()\n",
    "fn = (train[train.internet_service_type_id == 2].online_backup == 0).mean()\n",
    "fu = (train[train.internet_service_type_id == 2].device_protection == 0).mean()\n",
    "fm = (train[train.internet_service_type_id == 2].contract_type_id == 1).mean()\n",
    "\n",
    "sn = (train[train.partner == 0].online_backup == 0).mean()\n",
    "su = (train[train.partner == 0].device_protection == 0).mean()\n",
    "sm = (train[train.partner == 0].contract_type_id == 1).mean()\n",
    "\n",
    "nu = (train[train.online_backup == 0].device_protection == 0).mean()\n",
    "nm = (train[train.online_backup == 0].contract_type_id == 1).mean()\n",
    "\n",
    "mu = (train[train.contract_type_id == 1].device_protection == 0).mean()\n",
    "\n",
    "# Print percent-in-common for each two-feature combination\n",
    "print(fs, fn, fu, fm, sn, su, sm, nu, nm, mu)"
   ]
  },
  {
   "cell_type": "markdown",
   "id": "d355447c",
   "metadata": {},
   "source": [
    "#### Commonality:\n",
    "- 40s% Share: Single-Nobackup (49.6%)\n",
    "- 50s% Share: Single-Unprotected (50.1%), Fiber-Single (51.2%), Fiber-Unprotected (54.6%), Fiber-Nobackup (55.5%)\n",
    "- 60s% Share: Monthly-Unprotected (60.6%), Nobackup-Unprotected (63.45%), Fiber-Monthly (68.4%), Single_Monthly (69.0%)\n",
    "- 70s% Share: Nobackup-Monthly (73.9%)"
   ]
  },
  {
   "cell_type": "markdown",
   "id": "755b90af",
   "metadata": {},
   "source": [
    "### Takeaways: \n",
    "- **Although Month-to-month contracts are 55% of all contracts with a significantly-higher churn rate than other contracts, the population comparison above shows that month-to-month adds population redundancy. Therefore, I will create a model including month-to-month and a model not including month-to-month to see which model performs better.**\n",
    "- **The only other population check with >60% share between variables is device_protection and online_backup. I will therefore drop one for a model, and drop the other for another model.**"
   ]
  },
  {
   "cell_type": "markdown",
   "id": "819dcf44",
   "metadata": {},
   "source": [
    "### Model Design\n",
    "Model Combination #1 Target and Features:\n",
    "- Target: churn\n",
    "- Features: partner, internet_service_type_id, online_backup\n",
    "\n",
    "Model Combination #2 Target and Features:\n",
    "- Target: churn\n",
    "- Features: partner, internet_service_type_id, online_backup, contract_type_id\n",
    "\n",
    "Model Combination #3 Target and Features:\n",
    "- Target: churn\n",
    "- Features: partner, internet_service_type_id, device_protection"
   ]
  },
  {
   "cell_type": "markdown",
   "id": "0caa2d5b",
   "metadata": {},
   "source": [
    "### Modeling"
   ]
  },
  {
   "cell_type": "code",
   "execution_count": 14,
   "id": "eb7a8b57",
   "metadata": {},
   "outputs": [
    {
     "data": {
      "text/html": [
       "<div>\n",
       "<style scoped>\n",
       "    .dataframe tbody tr th:only-of-type {\n",
       "        vertical-align: middle;\n",
       "    }\n",
       "\n",
       "    .dataframe tbody tr th {\n",
       "        vertical-align: top;\n",
       "    }\n",
       "\n",
       "    .dataframe thead th {\n",
       "        text-align: right;\n",
       "    }\n",
       "</style>\n",
       "<table border=\"1\" class=\"dataframe\">\n",
       "  <thead>\n",
       "    <tr style=\"text-align: right;\">\n",
       "      <th></th>\n",
       "      <th>partner</th>\n",
       "      <th>internet_service_type_id</th>\n",
       "      <th>online_backup</th>\n",
       "      <th>contract_type_id</th>\n",
       "    </tr>\n",
       "  </thead>\n",
       "  <tbody>\n",
       "    <tr>\n",
       "      <th>5310</th>\n",
       "      <td>1</td>\n",
       "      <td>1</td>\n",
       "      <td>1</td>\n",
       "      <td>3</td>\n",
       "    </tr>\n",
       "    <tr>\n",
       "      <th>3790</th>\n",
       "      <td>1</td>\n",
       "      <td>1</td>\n",
       "      <td>1</td>\n",
       "      <td>3</td>\n",
       "    </tr>\n",
       "    <tr>\n",
       "      <th>4398</th>\n",
       "      <td>1</td>\n",
       "      <td>2</td>\n",
       "      <td>0</td>\n",
       "      <td>2</td>\n",
       "    </tr>\n",
       "  </tbody>\n",
       "</table>\n",
       "</div>"
      ],
      "text/plain": [
       "      partner  internet_service_type_id  online_backup  contract_type_id\n",
       "5310        1                         1              1                 3\n",
       "3790        1                         1              1                 3\n",
       "4398        1                         2              0                 2"
      ]
     },
     "execution_count": 14,
     "metadata": {},
     "output_type": "execute_result"
    }
   ],
   "source": [
    "target = 'churn'\n",
    "combo1 = ['partner', 'internet_service_type_id', 'online_backup']\n",
    "combo2 = ['partner', 'internet_service_type_id', 'online_backup', 'contract_type_id']\n",
    "combo3 = ['partner', 'internet_service_type_id', 'device_protection']\n",
    "\n",
    "y_train = train[target]\n",
    "X_train1 = train[combo1]\n",
    "X_train2 = train[combo2]\n",
    "X_train3 = train[combo3]\n",
    "\n",
    "y_validate = validate[target]\n",
    "X_validate1 = validate[combo1]\n",
    "X_validate2 = validate[combo2]\n",
    "X_validate3 = validate[combo3]\n",
    "\n",
    "X_train2.head(3)"
   ]
  },
  {
   "cell_type": "markdown",
   "id": "d4dfe8d7",
   "metadata": {},
   "source": [
    "### Models\n",
    "I will use Random Forest, K-Nearest Neighbors, and Logistic Regression for each model combination listed above."
   ]
  },
  {
   "cell_type": "code",
   "execution_count": 15,
   "id": "7f42a877",
   "metadata": {},
   "outputs": [],
   "source": [
    "rf1 = RandomForestClassifier(min_samples_leaf=1, max_depth=10, random_state=123)\n",
    "rf2 = RandomForestClassifier(min_samples_leaf=1, max_depth=10, random_state=123)\n",
    "rf3 = RandomForestClassifier(min_samples_leaf=1, max_depth=10, random_state=123)\n",
    "\n",
    "knn1 = KNeighborsClassifier(n_neighbors=10)\n",
    "knn2 = KNeighborsClassifier(n_neighbors=10)\n",
    "knn3 = KNeighborsClassifier(n_neighbors=10)\n",
    "\n",
    "logit1 = LogisticRegression(random_state=123)\n",
    "logit2 = LogisticRegression(random_state=123)\n",
    "logit3 = LogisticRegression(random_state=123)"
   ]
  },
  {
   "cell_type": "code",
   "execution_count": 16,
   "id": "e2f2c39f",
   "metadata": {},
   "outputs": [],
   "source": [
    "rf1 = rf1.fit(X_train1, y_train)\n",
    "rf2 = rf2.fit(X_train2, y_train)\n",
    "rf3 = rf3.fit(X_train3, y_train)\n",
    "\n",
    "knn1 = knn1.fit(X_train1, y_train)\n",
    "knn2 = knn2.fit(X_train2, y_train)\n",
    "knn3 = knn3.fit(X_train3, y_train)\n",
    "\n",
    "logit1 = logit1.fit(X_train1, y_train)\n",
    "logit2 = logit2.fit(X_train2, y_train)\n",
    "logit3 = logit3.fit(X_train3, y_train)"
   ]
  },
  {
   "cell_type": "markdown",
   "id": "c900ab70",
   "metadata": {},
   "source": [
    "### Evaluation\n",
    "Checking baseline."
   ]
  },
  {
   "cell_type": "code",
   "execution_count": 17,
   "id": "e87f2592",
   "metadata": {},
   "outputs": [
    {
     "data": {
      "text/plain": [
       "0.7347197565305605"
      ]
     },
     "execution_count": 17,
     "metadata": {},
     "output_type": "execute_result"
    }
   ],
   "source": [
    "# train.groupby('churn').churn.count()\n",
    "(train.churn == 0).mean()"
   ]
  },
  {
   "cell_type": "markdown",
   "id": "5511af1c",
   "metadata": {},
   "source": [
    "Checking scores of each model against train."
   ]
  },
  {
   "cell_type": "code",
   "execution_count": 18,
   "id": "794ed9c4",
   "metadata": {},
   "outputs": [
    {
     "name": "stdout",
     "output_type": "stream",
     "text": [
      "0.7550088764899823\n",
      "0.7702257164595485\n",
      "0.7514582804970834\n",
      "0.7347197565305605\n",
      "0.7159523205680953\n",
      "0.7347197565305605\n",
      "0.7550088764899823\n",
      "0.7702257164595485\n",
      "0.7514582804970834\n"
     ]
    }
   ],
   "source": [
    "print(rf1.score(X_train1, y_train))\n",
    "print(rf2.score(X_train2, y_train))\n",
    "print(rf3.score(X_train3, y_train))\n",
    "\n",
    "print(knn1.score(X_train1, y_train))\n",
    "print(knn2.score(X_train2, y_train))\n",
    "print(knn3.score(X_train3, y_train))\n",
    "\n",
    "print(logit1.score(X_train1, y_train))\n",
    "print(logit2.score(X_train2, y_train))\n",
    "print(logit3.score(X_train3, y_train))"
   ]
  },
  {
   "cell_type": "markdown",
   "id": "019378f5",
   "metadata": {},
   "source": [
    "Checking model scores against validate."
   ]
  },
  {
   "cell_type": "code",
   "execution_count": 19,
   "id": "340e5670",
   "metadata": {},
   "outputs": [
    {
     "name": "stdout",
     "output_type": "stream",
     "text": [
      "0.7480780603193377\n",
      "0.7640449438202247\n",
      "0.7474866942637493\n",
      "0.7344766410408042\n",
      "0.7261975162625666\n",
      "0.7344766410408042\n",
      "0.7480780603193377\n",
      "0.7640449438202247\n",
      "0.7474866942637493\n"
     ]
    }
   ],
   "source": [
    "print(rf1.score(X_validate1, y_validate))\n",
    "print(rf2.score(X_validate2, y_validate))\n",
    "print(rf3.score(X_validate3, y_validate))\n",
    "\n",
    "print(knn1.score(X_validate1, y_validate))\n",
    "print(knn2.score(X_validate2, y_validate))\n",
    "print(knn3.score(X_validate3, y_validate))\n",
    "\n",
    "print(logit1.score(X_validate1, y_validate))\n",
    "print(logit2.score(X_validate2, y_validate))\n",
    "print(logit3.score(X_validate3, y_validate))"
   ]
  },
  {
   "cell_type": "markdown",
   "id": "49f00375",
   "metadata": {},
   "source": [
    "#### Baseline\n",
    "- Not-churned customers make up 73.5% of all telco customers.\n",
    "\n",
    "#### Train results\n",
    "- rf2 and logit2 have same score, 77.0%\n",
    "- rf1 and logit1 have same score, 75.5%\n",
    "- rf3 and logit3 have same score, 75.1%\n",
    "- knn1 and knn3 have same score, 73.5%\n",
    "- knn2 scored lowest with 71.6%\n",
    "\n",
    "#### Validate results\n",
    "- rf2 and logit2 have same score, 76.4%\n",
    "- rf1 and logit1 have same score, 74.8%\n",
    "- rf3 and logit3 have same score, 74.7%\n",
    "- knn1 and knn3 have same score, 73.4%\n",
    "- knn2 scored lowest with 72.6%"
   ]
  },
  {
   "cell_type": "markdown",
   "id": "c2a83b3d",
   "metadata": {},
   "source": [
    "### Evaluation Takeaways\n",
    "- Random Forest (RF) and Logistic Regression (LOGIT) score higher than baseline, K-Nearest Neighbors scores lower\n",
    "- Including the contract_type_id feature improved RF and LOGIT performance for this evaluation\n",
    "- Using device_protection or online_backup produced similar score for train and test\n",
    "- **Best model is rf2 and logit2, will use rf2**"
   ]
  },
  {
   "cell_type": "markdown",
   "id": "a744b467",
   "metadata": {},
   "source": [
    "### Test evaluation with best model (rf2)"
   ]
  },
  {
   "cell_type": "code",
   "execution_count": 20,
   "id": "3c09f74f",
   "metadata": {},
   "outputs": [
    {
     "data": {
      "text/plain": [
       "0.7714691270404542"
      ]
     },
     "execution_count": 20,
     "metadata": {},
     "output_type": "execute_result"
    }
   ],
   "source": [
    "X_test = test[combo2]\n",
    "y_test = test[target]\n",
    "rf2.score(X_test, y_test)"
   ]
  },
  {
   "cell_type": "markdown",
   "id": "b14e2900",
   "metadata": {},
   "source": [
    "### Predictions Output"
   ]
  },
  {
   "cell_type": "code",
   "execution_count": 21,
   "id": "2776d36c",
   "metadata": {},
   "outputs": [
    {
     "data": {
      "text/html": [
       "<div>\n",
       "<style scoped>\n",
       "    .dataframe tbody tr th:only-of-type {\n",
       "        vertical-align: middle;\n",
       "    }\n",
       "\n",
       "    .dataframe tbody tr th {\n",
       "        vertical-align: top;\n",
       "    }\n",
       "\n",
       "    .dataframe thead th {\n",
       "        text-align: right;\n",
       "    }\n",
       "</style>\n",
       "<table border=\"1\" class=\"dataframe\">\n",
       "  <thead>\n",
       "    <tr style=\"text-align: right;\">\n",
       "      <th></th>\n",
       "      <th>CustomerID</th>\n",
       "      <th>Prediction</th>\n",
       "      <th>0</th>\n",
       "      <th>1</th>\n",
       "    </tr>\n",
       "  </thead>\n",
       "  <tbody>\n",
       "    <tr>\n",
       "      <th>0</th>\n",
       "      <td>4531-AUZNK</td>\n",
       "      <td>0</td>\n",
       "      <td>0.813652</td>\n",
       "      <td>0.186348</td>\n",
       "    </tr>\n",
       "    <tr>\n",
       "      <th>1</th>\n",
       "      <td>2296-DKZFP</td>\n",
       "      <td>0</td>\n",
       "      <td>0.983474</td>\n",
       "      <td>0.016526</td>\n",
       "    </tr>\n",
       "    <tr>\n",
       "      <th>2</th>\n",
       "      <td>9692-TUSXH</td>\n",
       "      <td>1</td>\n",
       "      <td>0.386903</td>\n",
       "      <td>0.613097</td>\n",
       "    </tr>\n",
       "    <tr>\n",
       "      <th>3</th>\n",
       "      <td>5129-JLPIS</td>\n",
       "      <td>1</td>\n",
       "      <td>0.386903</td>\n",
       "      <td>0.613097</td>\n",
       "    </tr>\n",
       "    <tr>\n",
       "      <th>4</th>\n",
       "      <td>1273-MTETI</td>\n",
       "      <td>1</td>\n",
       "      <td>0.386903</td>\n",
       "      <td>0.613097</td>\n",
       "    </tr>\n",
       "  </tbody>\n",
       "</table>\n",
       "</div>"
      ],
      "text/plain": [
       "   CustomerID  Prediction         0         1\n",
       "0  4531-AUZNK           0  0.813652  0.186348\n",
       "1  2296-DKZFP           0  0.983474  0.016526\n",
       "2  9692-TUSXH           1  0.386903  0.613097\n",
       "3  5129-JLPIS           1  0.386903  0.613097\n",
       "4  1273-MTETI           1  0.386903  0.613097"
      ]
     },
     "execution_count": 21,
     "metadata": {},
     "output_type": "execute_result"
    }
   ],
   "source": [
    "csv_df = pd.DataFrame()\n",
    "csv_df['CustomerID'] = test['customer_id']\n",
    "csv_df['Prediction'] = rf2.predict(X_test)\n",
    "csv_df = csv_df.reset_index().drop(columns='index')\n",
    "\n",
    "proba_df = pd.DataFrame(rf2.predict_proba(X_test))\n",
    "\n",
    "output_df = pd.concat([csv_df, proba_df], axis=1)\n",
    "output_df.head()"
   ]
  },
  {
   "cell_type": "code",
   "execution_count": 22,
   "id": "a01f2792",
   "metadata": {},
   "outputs": [],
   "source": [
    "output_df.to_csv('predictions.csv')"
   ]
  }
 ],
 "metadata": {
  "kernelspec": {
   "display_name": "Python 3",
   "language": "python",
   "name": "python3"
  },
  "language_info": {
   "codemirror_mode": {
    "name": "ipython",
    "version": 3
   },
   "file_extension": ".py",
   "mimetype": "text/x-python",
   "name": "python",
   "nbconvert_exporter": "python",
   "pygments_lexer": "ipython3",
   "version": "3.8.8"
  }
 },
 "nbformat": 4,
 "nbformat_minor": 5
}
